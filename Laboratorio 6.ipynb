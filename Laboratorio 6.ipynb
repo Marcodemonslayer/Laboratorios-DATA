{
 "cells": [
  {
   "cell_type": "markdown",
   "id": "137b8db3",
   "metadata": {},
   "source": [
    "# Laboratorio 6: REGEX\n",
    "\n",
    "Nombre: Marco Ocampo Nájera\n",
    "Carné: 20200411\n"
   ]
  },
  {
   "cell_type": "code",
   "execution_count": 2,
   "id": "2d30ee05",
   "metadata": {},
   "outputs": [],
   "source": [
    "import re"
   ]
  },
  {
   "cell_type": "code",
   "execution_count": 55,
   "id": "2712e4b6",
   "metadata": {},
   "outputs": [
    {
     "data": {
      "text/plain": [
       "['P234GLK', 'P345HJK']"
      ]
     },
     "execution_count": 55,
     "metadata": {},
     "output_type": "execute_result"
    }
   ],
   "source": [
    "Pregunta1 = \"485FGL GJG487 5434GL P234GLK P567HJJIOG P345HJK G8798PHK P7897HGL 789GHK PKDH789\"\n",
    "pattern_placas = r\"([P]\\d{3}\\w{3}\\b)\"\n",
    "re.findall(pattern_placas,Pregunta1)"
   ]
  },
  {
   "cell_type": "code",
   "execution_count": 143,
   "id": "8b42d3dc",
   "metadata": {},
   "outputs": [
    {
     "data": {
      "text/plain": [
       "['Ejemplo1.pdf', 'prueba2.PDF', 'respuestas_del_examen.jpg', 'amor.JPG']"
      ]
     },
     "execution_count": 143,
     "metadata": {},
     "output_type": "execute_result"
    }
   ],
   "source": [
    "Pregunta2 = \"Ejemplo1.pdf, prueba2.PDF, respuestas_del_examen.jpg, amor.JPG fdsf.word dfsf.csv\"\n",
    "pattern_pre2 = r\"\\S*.pdf|\\S*.jpg|\\S*.JPG|\\S*.PDF\"\n",
    "re.findall(pattern_pre2,Pregunta2)"
   ]
  },
  {
   "cell_type": "code",
   "execution_count": 109,
   "id": "c4036cf8",
   "metadata": {},
   "outputs": [
    {
     "data": {
      "text/plain": [
       "['Chocolate100*']"
      ]
     },
     "execution_count": 109,
     "metadata": {},
     "output_type": "execute_result"
    }
   ],
   "source": [
    "Pregunta3 = \"Chocolate100*\"\n",
    "pattern_pre3 = r\"^(?=.\\d*)(?=.*[\\u0021-\\u002b\\u003c-\\u0040])(?=.*[A-Z])(?=.*[a-z])\\S{8,100}$\"\n",
    "re.findall(pattern_pre3,Pregunta3)\n",
    "\n",
    "\n"
   ]
  },
  {
   "cell_type": "code",
   "execution_count": 76,
   "id": "228fc0ed",
   "metadata": {},
   "outputs": [
    {
     "data": {
      "text/plain": [
       "[]"
      ]
     },
     "execution_count": 76,
     "metadata": {},
     "output_type": "execute_result"
    }
   ],
   "source": [
    "Pregunta4 = \"3002324 19198567 19003689 45006548\"\n",
    "pattern_pre4 = r\"\"\n",
    "re.findall(pattern_pre4,Pregunta4)"
   ]
  },
  {
   "cell_type": "code",
   "execution_count": 112,
   "id": "65f14365",
   "metadata": {},
   "outputs": [
    {
     "data": {
      "text/plain": [
       "['pit, spot, spate, slap two, respite']"
      ]
     },
     "execution_count": 112,
     "metadata": {},
     "output_type": "execute_result"
    }
   ],
   "source": [
    "Pregunta5 = \"pit, spot, spate, slap two, respite, pt, Pot, peat, part\"\n",
    "pattern_pre5 = r\".*p.t\\w*\"\n",
    "re.findall(pattern_pre5,Pregunta5)"
   ]
  },
  {
   "cell_type": "code",
   "execution_count": 120,
   "id": "2d64b700",
   "metadata": {},
   "outputs": [
    {
     "data": {
      "text/plain": [
       "[]"
      ]
     },
     "execution_count": 120,
     "metadata": {},
     "output_type": "execute_result"
    }
   ],
   "source": [
    "Pregunta6 = \"+50254821151, 4210-7640, 52018150, 2434 6854, 11234569, 50211234578\"\n",
    "pattern_pre6 = r\"\\b(.502|502).[2,4,5,6]\\d{4}\\s\\b\\d{4}\"\n",
    "re.findall(pattern_pre6,Pregunta6)"
   ]
  },
  {
   "cell_type": "code",
   "execution_count": 202,
   "id": "3f9b63da",
   "metadata": {},
   "outputs": [
    {
     "data": {
      "text/plain": [
       "['marcosebastian@ufm.edu']"
      ]
     },
     "execution_count": 202,
     "metadata": {},
     "output_type": "execute_result"
    }
   ],
   "source": [
    "Pregunta7 = \"marcosebastian@ufm.edu marcosebastian@lan.com marcosebastian@lan.com\"\n",
    "pattern_pre7 = r\"[(\\S|\\d)]*[\\S\\.]*(?!\\.)@ufm.edu\"\n",
    "re.findall(pattern_pre7,Pregunta7)"
   ]
  },
  {
   "cell_type": "code",
   "execution_count": 235,
   "id": "84ceffbb",
   "metadata": {},
   "outputs": [
    {
     "data": {
      "text/plain": [
       "['abc012333ABCDEEEE', '012333ABCDEEEE']"
      ]
     },
     "execution_count": 235,
     "metadata": {},
     "output_type": "execute_result"
    }
   ],
   "source": [
    "Pregunta8 = \"abc012333ABCDEEEE 012333ABCDEEEE\"\n",
    "pattern_pre8 = r\"[a-z]{0,3}[0-9]{2,9}[A-Z]{3,100}\"\n",
    "re.findall(pattern_pre8,Pregunta8)"
   ]
  }
 ],
 "metadata": {
  "kernelspec": {
   "display_name": "Python 3 (ipykernel)",
   "language": "python",
   "name": "python3"
  },
  "language_info": {
   "codemirror_mode": {
    "name": "ipython",
    "version": 3
   },
   "file_extension": ".py",
   "mimetype": "text/x-python",
   "name": "python",
   "nbconvert_exporter": "python",
   "pygments_lexer": "ipython3",
   "version": "3.9.12"
  }
 },
 "nbformat": 4,
 "nbformat_minor": 5
}
